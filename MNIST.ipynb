{
  "nbformat": 4,
  "nbformat_minor": 0,
  "metadata": {
    "colab": {
      "name": "MNIST.ipynb",
      "provenance": []
    },
    "kernelspec": {
      "name": "python3",
      "display_name": "Python 3"
    },
    "accelerator": "GPU"
  },
  "cells": [
    {
      "cell_type": "markdown",
      "metadata": {
        "id": "HMjLMX4XbgX0",
        "colab_type": "text"
      },
      "source": [
        "#Image Classification with MNIST Dataset"
      ]
    },
    {
      "cell_type": "markdown",
      "metadata": {
        "id": "PD2ceZHJcbb8",
        "colab_type": "text"
      },
      "source": [
        "###The MNIST dataset is an acronym that stands for the Modified National Institute of Standards and Technology dataset.\n",
        "\n",
        "###It is a dataset of 60,000 small square 28×28 pixel grayscale images of handwritten single digits between 0 and 9.\n",
        "\n",
        "###The task is to classify a given image of a handwritten digit into one of 10 classes representing integer values from 0 to 9, inclusively."
      ]
    },
    {
      "cell_type": "code",
      "metadata": {
        "id": "ZbX5p6cUwZwo",
        "colab_type": "code",
        "colab": {
          "base_uri": "https://localhost:8080/",
          "height": 34
        },
        "outputId": "10cd53cc-5eb4-4b38-af6c-ba116dd044ea"
      },
      "source": [
        "# Importing Libaries\n",
        "import tensorflow as tf\n",
        "import keras \n",
        "from keras.models import Sequential\n",
        "from keras.layers import Dense , Dropout , Flatten\n",
        "from keras.layers import Conv2D , MaxPooling2D\n",
        "from keras import backend as k\n",
        "from keras.models import load_model\n",
        "import numpy as np\n",
        "import matplotlib.pyplot as plt"
      ],
      "execution_count": null,
      "outputs": [
        {
          "output_type": "stream",
          "text": [
            "Using TensorFlow backend.\n"
          ],
          "name": "stderr"
        }
      ]
    },
    {
      "cell_type": "code",
      "metadata": {
        "id": "g7lF8ijliOgi",
        "colab_type": "code",
        "colab": {}
      },
      "source": [
        "# Load dataset\n",
        "from keras.datasets import mnist"
      ],
      "execution_count": null,
      "outputs": []
    },
    {
      "cell_type": "code",
      "metadata": {
        "id": "URrT2paDiVmY",
        "colab_type": "code",
        "colab": {
          "base_uri": "https://localhost:8080/",
          "height": 51
        },
        "outputId": "42882fc6-19ac-4bbd-dd06-ebfc48ddee9a"
      },
      "source": [
        "# Split the dataset\n",
        "(X_train , y_train) , (X_test , y_test)=mnist.load_data()"
      ],
      "execution_count": null,
      "outputs": [
        {
          "output_type": "stream",
          "text": [
            "Downloading data from https://s3.amazonaws.com/img-datasets/mnist.npz\n",
            "11493376/11490434 [==============================] - 1s 0us/step\n"
          ],
          "name": "stdout"
        }
      ]
    },
    {
      "cell_type": "code",
      "metadata": {
        "id": "FlVPmsC5ilYM",
        "colab_type": "code",
        "colab": {
          "base_uri": "https://localhost:8080/",
          "height": 34
        },
        "outputId": "503e7e03-3c38-4569-890c-a23d81029b22"
      },
      "source": [
        "# Shape of the dataset\n",
        "print(X_train.shape , y_train.shape)"
      ],
      "execution_count": null,
      "outputs": [
        {
          "output_type": "stream",
          "text": [
            "(60000, 28, 28) (60000,)\n"
          ],
          "name": "stdout"
        }
      ]
    },
    {
      "cell_type": "code",
      "metadata": {
        "id": "95tTEZgZi20b",
        "colab_type": "code",
        "colab": {}
      },
      "source": [
        "# Reshape of the dataset\n",
        "X_train=X_train.reshape(X_train.shape[0],28,28,1)\n",
        "X_test=X_test.reshape(X_test.shape[0],28,28,1)\n",
        "input_shape=(28,28,1)"
      ],
      "execution_count": null,
      "outputs": []
    },
    {
      "cell_type": "code",
      "metadata": {
        "id": "WoaVb3BwksfQ",
        "colab_type": "code",
        "colab": {}
      },
      "source": [
        "#Convert class vectors to binary class metrics"
      ],
      "execution_count": null,
      "outputs": []
    },
    {
      "cell_type": "code",
      "metadata": {
        "id": "l-GdiL40jliD",
        "colab_type": "code",
        "colab": {}
      },
      "source": [
        "num_classes=10\n",
        "y_train=keras.utils.to_categorical(y_train, num_classes)\n",
        "y_test=keras.utils.to_categorical(y_test,num_classes)"
      ],
      "execution_count": null,
      "outputs": []
    },
    {
      "cell_type": "code",
      "metadata": {
        "id": "G7i4MJyklt-H",
        "colab_type": "code",
        "colab": {}
      },
      "source": [
        "X_train = X_train.astype('float32')\n",
        "X_test = X_test.astype('float32')\n",
        "\n",
        "# Normalizing the data\n",
        "X_train=X_train/255\n",
        "X_test=X_test/255"
      ],
      "execution_count": null,
      "outputs": []
    },
    {
      "cell_type": "code",
      "metadata": {
        "id": "xdnaHsZamEkM",
        "colab_type": "code",
        "colab": {
          "base_uri": "https://localhost:8080/",
          "height": 68
        },
        "outputId": "8d206a81-6d5e-4be3-b406-f083a0ed2bde"
      },
      "source": [
        "print('X_train.shape', X_test.shape)\n",
        "print(X_train.shape[0],'Train Sample')\n",
        "print(X_test.shape[0],'Test Sample')"
      ],
      "execution_count": null,
      "outputs": [
        {
          "output_type": "stream",
          "text": [
            "X_train.shape (10000, 28, 28, 1)\n",
            "60000 Train Sample\n",
            "10000 Test Sample\n"
          ],
          "name": "stdout"
        }
      ]
    },
    {
      "cell_type": "code",
      "metadata": {
        "id": "RUSPOg6DntP3",
        "colab_type": "code",
        "colab": {}
      },
      "source": [
        "# Create The Model"
      ],
      "execution_count": null,
      "outputs": []
    },
    {
      "cell_type": "code",
      "metadata": {
        "id": "8EaCjQXzoFi_",
        "colab_type": "code",
        "colab": {}
      },
      "source": [
        "model=Sequential()\n",
        "model.add(Conv2D(32, kernel_size=(3,3), activation='relu', input_shape=input_shape))\n",
        "model.add(Conv2D(64,(3,3),activation='relu'))\n",
        "model.add(MaxPooling2D(pool_size=(2,2)))\n",
        "model.add(Dropout(0.25))\n",
        "model.add(Flatten())\n",
        "model.add(Dense(256, activation='relu'))\n",
        "model.add(Dropout(0.5))\n",
        "model.add(Dense(num_classes, activation='softmax'))\n"
      ],
      "execution_count": null,
      "outputs": []
    },
    {
      "cell_type": "code",
      "metadata": {
        "id": "Xn-LKjVHqfWx",
        "colab_type": "code",
        "colab": {}
      },
      "source": [
        "# Compile model\n",
        "model.compile(loss=keras.losses.categorical_crossentropy,optimizer=keras.optimizers.Adadelta(),metrics=['accuracy'])"
      ],
      "execution_count": null,
      "outputs": []
    },
    {
      "cell_type": "code",
      "metadata": {
        "id": "T1fQdsZRrQd4",
        "colab_type": "code",
        "colab": {
          "base_uri": "https://localhost:8080/",
          "height": 391
        },
        "outputId": "dcbd4d96-a86b-4f4b-c5b9-fe0e4c0ed38b"
      },
      "source": [
        "# Model training\n",
        "model.fit(X_train,y_train , batch_size=128,epochs=10,verbose=1,validation_data=(X_test,y_test))\n",
        "print(\"The Model has Successfully Trained\")"
      ],
      "execution_count": null,
      "outputs": [
        {
          "output_type": "stream",
          "text": [
            "Train on 60000 samples, validate on 10000 samples\n",
            "Epoch 1/10\n",
            "60000/60000 [==============================] - 12s 205us/step - loss: 0.2421 - accuracy: 0.9254 - val_loss: 0.0616 - val_accuracy: 0.9812\n",
            "Epoch 2/10\n",
            "60000/60000 [==============================] - 5s 88us/step - loss: 0.0742 - accuracy: 0.9774 - val_loss: 0.0381 - val_accuracy: 0.9873\n",
            "Epoch 3/10\n",
            "60000/60000 [==============================] - 5s 87us/step - loss: 0.0547 - accuracy: 0.9833 - val_loss: 0.0323 - val_accuracy: 0.9898\n",
            "Epoch 4/10\n",
            "60000/60000 [==============================] - 5s 86us/step - loss: 0.0441 - accuracy: 0.9858 - val_loss: 0.0307 - val_accuracy: 0.9906\n",
            "Epoch 5/10\n",
            "60000/60000 [==============================] - 5s 85us/step - loss: 0.0369 - accuracy: 0.9889 - val_loss: 0.0269 - val_accuracy: 0.9907\n",
            "Epoch 6/10\n",
            "60000/60000 [==============================] - 5s 86us/step - loss: 0.0305 - accuracy: 0.9905 - val_loss: 0.0284 - val_accuracy: 0.9907\n",
            "Epoch 7/10\n",
            "60000/60000 [==============================] - 5s 87us/step - loss: 0.0276 - accuracy: 0.9917 - val_loss: 0.0260 - val_accuracy: 0.9912\n",
            "Epoch 8/10\n",
            "60000/60000 [==============================] - 5s 87us/step - loss: 0.0238 - accuracy: 0.9925 - val_loss: 0.0273 - val_accuracy: 0.9905\n",
            "Epoch 9/10\n",
            "60000/60000 [==============================] - 5s 87us/step - loss: 0.0205 - accuracy: 0.9935 - val_loss: 0.0238 - val_accuracy: 0.9920\n",
            "Epoch 10/10\n",
            "60000/60000 [==============================] - 5s 87us/step - loss: 0.0190 - accuracy: 0.9939 - val_loss: 0.0243 - val_accuracy: 0.9922\n",
            "The Model has Successfully Trained\n"
          ],
          "name": "stdout"
        }
      ]
    },
    {
      "cell_type": "code",
      "metadata": {
        "id": "Fk_V8_matSbx",
        "colab_type": "code",
        "colab": {
          "base_uri": "https://localhost:8080/",
          "height": 51
        },
        "outputId": "50141192-c5e6-421c-d36f-b6833b4b7886"
      },
      "source": [
        "# Model evaluating\n",
        "score=model.evaluate(X_test,y_test ,verbose=2)\n",
        "print('test loss:',score[0])\n",
        "print('test accuracy:',score[1])"
      ],
      "execution_count": null,
      "outputs": [
        {
          "output_type": "stream",
          "text": [
            "test loss: 0.024295693566385126\n",
            "test accuracy: 0.9922000169754028\n"
          ],
          "name": "stdout"
        }
      ]
    },
    {
      "cell_type": "code",
      "metadata": {
        "id": "WaoBYse4yVT9",
        "colab_type": "code",
        "colab": {
          "base_uri": "https://localhost:8080/",
          "height": 35
        },
        "outputId": "b60cf5e5-c848-4f74-c330-2e54305e7703"
      },
      "source": [
        "# Model Saving\n",
        "model.save('mnist.model')\n",
        "print('Saving the model as mnist.h5')"
      ],
      "execution_count": null,
      "outputs": [
        {
          "output_type": "stream",
          "text": [
            "Saving the model as mnist.h5\n"
          ],
          "name": "stdout"
        }
      ]
    },
    {
      "cell_type": "code",
      "metadata": {
        "id": "e0DLKPFs0E-I",
        "colab_type": "code",
        "colab": {}
      },
      "source": [
        "# Prediction "
      ],
      "execution_count": null,
      "outputs": []
    },
    {
      "cell_type": "code",
      "metadata": {
        "id": "wNh3u-bmaNSv",
        "colab_type": "code",
        "colab": {}
      },
      "source": [
        "new_model=load_model('mnist.model')"
      ],
      "execution_count": null,
      "outputs": []
    },
    {
      "cell_type": "code",
      "metadata": {
        "id": "JdxTRcrAbOG1",
        "colab_type": "code",
        "colab": {}
      },
      "source": [
        "prediction=new_model.predict(X_test)"
      ],
      "execution_count": null,
      "outputs": []
    },
    {
      "cell_type": "code",
      "metadata": {
        "id": "oax8d9h7b0m0",
        "colab_type": "code",
        "colab": {
          "base_uri": "https://localhost:8080/",
          "height": 238
        },
        "outputId": "2f387de3-4d9f-4afe-b184-c98528e2def7"
      },
      "source": [
        "print(prediction)"
      ],
      "execution_count": null,
      "outputs": [
        {
          "output_type": "stream",
          "text": [
            "[[8.3331474e-11 1.4353562e-09 3.1593352e-08 ... 9.9999988e-01\n",
            "  1.8827741e-10 1.3965154e-08]\n",
            " [2.6270053e-08 2.5850215e-07 9.9999976e-01 ... 1.7577292e-13\n",
            "  1.4756337e-11 2.2648682e-14]\n",
            " [5.9303136e-09 9.9999905e-01 5.0843827e-08 ... 1.1268972e-07\n",
            "  1.1930294e-07 1.7471360e-09]\n",
            " ...\n",
            " [3.5915095e-14 2.1507535e-10 1.6785711e-14 ... 1.2009951e-09\n",
            "  3.3242105e-09 2.3583737e-09]\n",
            " [3.4930680e-11 5.5337557e-12 1.9345867e-14 ... 6.3096506e-13\n",
            "  1.1245549e-05 1.2790273e-11]\n",
            " [6.3917622e-09 1.8359909e-10 1.6958214e-08 ... 1.7798674e-13\n",
            "  1.6924987e-09 1.8950666e-10]]\n"
          ],
          "name": "stdout"
        }
      ]
    },
    {
      "cell_type": "code",
      "metadata": {
        "id": "H2B2SW8Rb59k",
        "colab_type": "code",
        "colab": {
          "base_uri": "https://localhost:8080/",
          "height": 34
        },
        "outputId": "cc05af06-6252-4bba-bbc1-4b55819445ae"
      },
      "source": [
        "print(np.argmax(prediction[5]))"
      ],
      "execution_count": null,
      "outputs": [
        {
          "output_type": "stream",
          "text": [
            "1\n"
          ],
          "name": "stdout"
        }
      ]
    },
    {
      "cell_type": "code",
      "metadata": {
        "id": "2oZIhXpOcGAU",
        "colab_type": "code",
        "colab": {
          "base_uri": "https://localhost:8080/",
          "height": 265
        },
        "outputId": "1ff2d444-2315-4612-fcf7-6647ababe783"
      },
      "source": [
        "plt.imshow((tf.squeeze(X_test[5])))\n",
        "plt.show()"
      ],
      "execution_count": null,
      "outputs": [
        {
          "output_type": "display_data",
          "data": {
            "image/png": "[encoded data removed]",
            "text/plain": [
              "<Figure size 432x288 with 1 Axes>"
            ]
          },
          "metadata": {
            "tags": [],
            "needs_background": "light"
          }
        }
      ]
    },
    {
      "cell_type": "code",
      "metadata": {
        "id": "d66RiwqjckHt",
        "colab_type": "code",
        "colab": {
          "base_uri": "https://localhost:8080/",
          "height": 119
        },
        "outputId": "5d300e6c-4a05-4f84-876f-d8e752d5bf6d"
      },
      "source": [
        "#predict on the first five images\n",
        "pred=model.predict(X_test[:5])\n",
        "# print our model prediction\n",
        "print(np.argmax(pred ,axis=1))\n",
        "print(y_test[:5])\n"
      ],
      "execution_count": null,
      "outputs": [
        {
          "output_type": "stream",
          "text": [
            "[7 2 1 0 4]\n",
            "[[0. 0. 0. 0. 0. 0. 0. 1. 0. 0.]\n",
            " [0. 0. 1. 0. 0. 0. 0. 0. 0. 0.]\n",
            " [0. 1. 0. 0. 0. 0. 0. 0. 0. 0.]\n",
            " [1. 0. 0. 0. 0. 0. 0. 0. 0. 0.]\n",
            " [0. 0. 0. 0. 1. 0. 0. 0. 0. 0.]]\n"
          ],
          "name": "stdout"
        }
      ]
    },
    {
      "cell_type": "code",
      "metadata": {
        "id": "QNeLlawNfwmE",
        "colab_type": "code",
        "colab": {
          "base_uri": "https://localhost:8080/",
          "height": 1000
        },
        "outputId": "e0c252da-dca5-4ab1-b0af-5c7e1c18dc8e"
      },
      "source": [
        "for i in range (0,5):\n",
        "  first_img=X_test[i]\n",
        "  first_img=np.array(first_img,dtype='float')\n",
        "  pixels=first_img.reshape((28,28))\n",
        "  plt.imshow(pixels, cmap='gray')\n",
        "  plt.show()"
      ],
      "execution_count": null,
      "outputs": [
        {
          "output_type": "display_data",
          "data": {
            "image/png": "[encoded data removed]",
            "text/plain": [
              "<Figure size 432x288 with 1 Axes>"
            ]
          },
          "metadata": {
            "tags": [],
            "needs_background": "light"
          }
        },
        {
          "output_type": "display_data",
          "data": {
            "image/png": "[encoded data removed]",
            "text/plain": [
              "<Figure size 432x288 with 1 Axes>"
            ]
          },
          "metadata": {
            "tags": [],
            "needs_background": "light"
          }
        },
        {
          "output_type": "display_data",
          "data": {
            "image/png": "[encoded data removed]",
            "text/plain": [
              "<Figure size 432x288 with 1 Axes>"
            ]
          },
          "metadata": {
            "tags": [],
            "needs_background": "light"
          }
        },
        {
          "output_type": "display_data",
          "data": {
            "image/png": "[encoded data removed]",
            "text/plain": [
              "<Figure size 432x288 with 1 Axes>"
            ]
          },
          "metadata": {
            "tags": [],
            "needs_background": "light"
          }
        },
        {
          "output_type": "display_data",
          "data": {
            "image/png": "[encoded data removed]",
            "text/plain": [
              "<Figure size 432x288 with 1 Axes>"
            ]
          },
          "metadata": {
            "tags": [],
            "needs_background": "light"
          }
        }
      ]
    },
    {
      "cell_type": "code",
      "metadata": {
        "id": "KENVquR0iPrh",
        "colab_type": "code",
        "colab": {}
      },
      "source": [
        ""
      ],
      "execution_count": null,
      "outputs": []
    }
  ]
}